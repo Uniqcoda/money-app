{
 "cells": [
  {
   "cell_type": "markdown",
   "metadata": {},
   "source": [
    "### Follow the steps in the README.md file to set up"
   ]
  },
  {
   "cell_type": "code",
   "execution_count": null,
   "metadata": {},
   "outputs": [],
   "source": [
    "import os\n",
    "import time\n",
    "from PIL import Image"
   ]
  },
  {
   "cell_type": "code",
   "execution_count": null,
   "metadata": {},
   "outputs": [],
   "source": [
    "def process_images(input_folder, output_folder, target_size=(1024, 1024)):\n",
    "    # Create the output folder if it doesn't exist\n",
    "    os.makedirs(output_folder, exist_ok=True)\n",
    "\n",
    "    processed_count = 0\n",
    "\n",
    "    # Iterate over each file in the input folder\n",
    "    for filename in os.listdir(input_folder):\n",
    "        input_path = os.path.join(input_folder, filename)\n",
    "        \n",
    "        try:\n",
    "            with Image.open(input_path) as img:\n",
    "                # Crop to a square aspect ratio based on the shortest side\n",
    "                min_side = min(img.size)\n",
    "                # If w,h => 4000,3000 \n",
    "                left = (img.width - min_side) / 2 # 500\n",
    "                top = (img.height - min_side) / 2   # 0\n",
    "                right = (img.width + min_side) / 2  # 3500\n",
    "                bottom = (img.height + min_side) / 2  # 3000\n",
    "                cropped_img = img.crop((left, top, right, bottom))\n",
    "\n",
    "                # Resize the cropped image to the target size\n",
    "                resized_img = cropped_img.resize(target_size)\n",
    "\n",
    "                # Save the processed image to the output folder\n",
    "                output_path = os.path.join(output_folder, filename)\n",
    "                resized_img.save(output_path)\n",
    "\n",
    "                processed_count += 1\n",
    "        except (IOError, OSError, Image.UnidentifiedImageError):\n",
    "            print(f\"Skipping non-image file: {filename}\")\n",
    "\n",
    "    print(\"Image processing complete.\")\n",
    "    return processed_count\n"
   ]
  },
  {
   "cell_type": "markdown",
   "metadata": {},
   "source": [
    "### Run the preprocess function"
   ]
  },
  {
   "cell_type": "code",
   "execution_count": null,
   "metadata": {},
   "outputs": [],
   "source": [
    "# Set your input and output folders\n",
    "input_folder = 'raw_images'\n",
    "output_folder = 'images'\n",
    "\n",
    "# Record start time\n",
    "start_time = time.time()\n",
    "\n",
    "# Call the process_images function\n",
    "# Add your target size if it is different from the default, e.g. (256, 256)\n",
    "processed_count = process_images(input_folder, output_folder)\n",
    "\n",
    "# Record end time\n",
    "end_time = time.time()\n",
    "\n",
    "# Calculate and print the elapsed time\n",
    "elapsed_time = end_time - start_time\n",
    "print(f\"Elapsed time: {elapsed_time} seconds\")\n",
    "print(f\"Number of processed images: {processed_count}\")\n"
   ]
  },
  {
   "cell_type": "markdown",
   "metadata": {},
   "source": []
  }
 ],
 "metadata": {
  "kernelspec": {
   "display_name": ".coin_env",
   "language": "python",
   "name": ".coin_env"
  },
  "language_info": {
   "codemirror_mode": {
    "name": "ipython",
    "version": 3
   },
   "file_extension": ".py",
   "mimetype": "text/x-python",
   "name": "python",
   "nbconvert_exporter": "python",
   "pygments_lexer": "ipython3",
   "version": "3.11.6"
  }
 },
 "nbformat": 4,
 "nbformat_minor": 4
}
